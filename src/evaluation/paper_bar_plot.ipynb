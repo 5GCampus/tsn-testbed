{
 "cells": [
  {
   "cell_type": "code",
   "execution_count": null,
   "metadata": {
    "tags": []
   },
   "outputs": [],
   "source": [
    "from pandas import read_csv\n",
    "from numpy import arange\n",
    "import matplotlib.pyplot as plt\n",
    "import seaborn as sns\n",
    "sns.set_theme()\n",
    "from statistics import NormalDist"
   ]
  },
  {
   "cell_type": "code",
   "execution_count": null,
   "metadata": {
    "tags": []
   },
   "outputs": [],
   "source": [
    "plt.rcParams.update({\n",
    "        'font.family': 'serif',\n",
    "        'font.serif': [],\n",
    "        'font.size' : 11,\n",
    "        'text.usetex': True,\n",
    "        'axes.facecolor':'white',\n",
    "        'axes.edgecolor': 'lightgrey',\n",
    "        'grid.color': 'lightgrey'\n",
    "        })\n",
    "\n",
    "MEDIUM_SIZE = 14\n",
    "BIGGER_SIZE = 16\n",
    "plt.rc('font', size=MEDIUM_SIZE)          # controls default text sizes\n",
    "plt.rc('axes', titlesize=MEDIUM_SIZE)     # fontsize of the axes title\n",
    "plt.rc('axes', labelsize=MEDIUM_SIZE)     # fontsize of the x and y labels\n",
    "plt.rc('xtick', labelsize=MEDIUM_SIZE)    # fontsize of the tick labels\n",
    "plt.rc('ytick', labelsize=MEDIUM_SIZE)    # fontsize of the tick labels\n",
    "plt.rc('legend', fontsize=12)             # legend fontsize"
   ]
  },
  {
   "cell_type": "code",
   "execution_count": null,
   "metadata": {
    "tags": []
   },
   "outputs": [],
   "source": [
    "PREFIX = \"/mnt/harddrive/data/backup/old/FibroLAN-FalconRX\"\n",
    "MEASUREMENTS = [\"_IEEE-802.1p_60_120.0percent\",\n",
    "                \"_IEEE-802.1p_1518_120.0percent\",\n",
    "                \"-BBB_IEEE-802.1p_60_120.0percent\",\n",
    "                \"-BBB_IEEE-802.1p_1518_120.0percent\"]\n",
    "PATHS = [\"{}{}\".format(PREFIX, p) for p in MEASUREMENTS]\n",
    "BARS = [\"minimum\",\n",
    "        \"mean\",\n",
    "        \"0.999_percentile\",\n",
    "        \"maximum\",\n",
    "        \"std\"]\n",
    "STREAMS = [\"robotic\", \"audio\", \"video\"]\n",
    "METRIC = \"Latency (ns)\""
   ]
  },
  {
   "cell_type": "code",
   "execution_count": null,
   "metadata": {
    "tags": []
   },
   "outputs": [],
   "source": [
    "dfs = {}\n",
    "for m in PATHS:\n",
    "    dfs[m] = read_csv(m + \"/csv/statistics.csv\", delimiter=\";\")\n",
    "\n",
    "dfs_raw = {}\n",
    "for p in PATHS:\n",
    "    dfs_raw[p] = {}\n",
    "    for s in STREAMS:\n",
    "        dfs_raw[p][s] = read_csv('{}/csv/{}.csv'.format(p, s),\n",
    "                                 delimiter=\",\",\n",
    "                                 usecols=['Latency (ns)'],\n",
    "                                 dtype=int)"
   ]
  },
  {
   "cell_type": "code",
   "execution_count": null,
   "metadata": {
    "tags": []
   },
   "outputs": [],
   "source": [
    "data = {}\n",
    "for file, d in dfs.items():\n",
    "    # select specific rows and columns from csv/dataframes:\n",
    "    filtered_df = {}\n",
    "    for s in STREAMS:\n",
    "        stream_data = []\n",
    "        row = d.loc[(d['stream_pattern'].eq(s)) & (d['measurement'].eq(METRIC))]\n",
    "        # select only desired statistical values:\n",
    "        for b in BARS:\n",
    "            # add value in µs:\n",
    "            stream_data.append(row.iloc[0][b] / 1e3)\n",
    "        filtered_df[s] = stream_data\n",
    "    data[file] = filtered_df"
   ]
  },
  {
   "cell_type": "code",
   "execution_count": null,
   "metadata": {
    "tags": []
   },
   "outputs": [],
   "source": [
    "# https://stackoverflow.com/a/55270860\n",
    "def confidence_interval(data, confidence=0.95):\n",
    "    dist = NormalDist.from_samples(data)\n",
    "    z = NormalDist().inv_cdf((1 + confidence) / 2.)\n",
    "    e = dist.stdev * z / ((len(data) - 1) ** .5)\n",
    "    return e"
   ]
  },
  {
   "cell_type": "code",
   "execution_count": null,
   "metadata": {
    "tags": []
   },
   "outputs": [],
   "source": [
    "cis = {}\n",
    "\n",
    "for s in STREAMS:\n",
    "    cis[s] = []\n",
    "\n",
    "for p in PATHS:\n",
    "    for s in STREAMS:\n",
    "        cis[s].append(confidence_interval(dfs_raw[p][s]['Latency (ns)']))"
   ]
  },
  {
   "cell_type": "code",
   "execution_count": null,
   "metadata": {
    "tags": []
   },
   "outputs": [],
   "source": [
    "means = []\n",
    "\n",
    "for p in PATHS:\n",
    "    means.append(data[p]['robotic'][1])"
   ]
  },
  {
   "cell_type": "code",
   "execution_count": null,
   "metadata": {
    "tags": []
   },
   "outputs": [],
   "source": [
    "barWidth = 0.20\n",
    "x = arange(len(BARS))\n",
    "\n",
    "for s in STREAMS:\n",
    "    offset = 0\n",
    "    fig, ax = plt.subplots()\n",
    "    ax.bar(x + offset * barWidth,\n",
    "           data[PATHS[0]][s],\n",
    "           barWidth-0.01,\n",
    "           log=False,\n",
    "           hatch=\"///\",\n",
    "           edgecolor=\"black\")\n",
    "    offset +=1\n",
    "    ax.bar(x + offset * barWidth,\n",
    "           data[PATHS[1]][s],\n",
    "           barWidth-0.01,\n",
    "           log=False,\n",
    "           hatch='\\\\\\\\',\n",
    "           edgecolor=\"black\")\n",
    "    offset +=1\n",
    "    ax.bar(x + offset * barWidth,\n",
    "           data[PATHS[2]][s],\n",
    "           barWidth-0.01,\n",
    "           log=False,\n",
    "           hatch=\"oo\",\n",
    "           edgecolor=\"black\")\n",
    "    offset +=1\n",
    "    ax.bar(x + offset * barWidth,\n",
    "           data[PATHS[3]][s],\n",
    "           barWidth-0.01,\n",
    "           log=False,\n",
    "           hatch=\"..\",\n",
    "           edgecolor=\"black\")\n",
    "    ax.errorbar(x=[1, 1.2, 1.4, 1.6],\n",
    "                y=means,\n",
    "                yerr=cis[s],\n",
    "                ls='none',\n",
    "                color='black',\n",
    "                capsize=5)\n",
    "    plt.ylabel('One-way Delay [µs]')\n",
    "    x_offset = x + (len(MEASUREMENTS) - 1) * barWidth / 2\n",
    "    xlabels = [\"Min\",\n",
    "               \"Mean\",\n",
    "               \"P99.9\\%\",\n",
    "               \"Max\",\n",
    "               \"Stdev\"]\n",
    "    ax.tick_params(axis='y')\n",
    "    plt.xticks(x_offset,\n",
    "               xlabels,\n",
    "               ha=\"center\")\n",
    "    legend = [\"64B\", \"1522B\", \"Adaptive 64B\", \"Adaptive 1522B\"]\n",
    "    plt.legend(legend,\n",
    "               bbox_to_anchor=(0, 1, 1, 0),\n",
    "               loc=\"lower left\",\n",
    "               mode=\"expand\",\n",
    "               ncol=4,\n",
    "               frameon=True,\n",
    "               handletextpad=0.3)\n",
    "    plt.ylim(0,30)\n",
    "    plt.tight_layout()\n",
    "    plt.savefig(\"barplot_{}.pdf\".format(s))\n",
    "    plt.close(\"all\")\n",
    "    #plt.show()"
   ]
  }
 ],
 "metadata": {
  "interpreter": {
   "hash": "e7370f93d1d0cde622a1f8e1c04877d8463912d04d973331ad4851f04de6915a"
  },
  "kernelspec": {
   "display_name": "Python 3 (ipykernel)",
   "language": "python",
   "name": "python3"
  },
  "language_info": {
   "codemirror_mode": {
    "name": "ipython",
    "version": 3
   },
   "file_extension": ".py",
   "mimetype": "text/x-python",
   "name": "python",
   "nbconvert_exporter": "python",
   "pygments_lexer": "ipython3",
   "version": "3.10.4"
  }
 },
 "nbformat": 4,
 "nbformat_minor": 4
}
