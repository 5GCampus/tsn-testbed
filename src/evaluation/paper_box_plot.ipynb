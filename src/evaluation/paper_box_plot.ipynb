{
 "cells": [
  {
   "cell_type": "code",
   "execution_count": null,
   "metadata": {
    "tags": []
   },
   "outputs": [],
   "source": [
    "from pandas import read_csv, DataFrame\n",
    "from numpy import arange\n",
    "import matplotlib.pyplot as plt\n",
    "import matplotlib.patches as mpatches\n",
    "import matplotlib.ticker as tck\n",
    "import matplotlib.lines as mlines\n",
    "import seaborn as sns\n",
    "from json import loads\n",
    "sns.set_theme()"
   ]
  },
  {
   "cell_type": "code",
   "execution_count": null,
   "metadata": {
    "tags": []
   },
   "outputs": [],
   "source": [
    "plt.rcParams.update({\n",
    "        'font.family': 'serif',\n",
    "        'font.serif': [],\n",
    "        'font.size' : 11,\n",
    "        'text.usetex': True,\n",
    "        'pgf.texsystem': 'pdflatex',\n",
    "        'axes.facecolor':'white',\n",
    "        'axes.edgecolor': 'lightgrey',\n",
    "        'hatch.color': 'white',\n",
    "        #'ytick.color': 'grey'\n",
    "        })\n",
    "\n",
    "MEDIUM_SIZE = 14\n",
    "BIGGER_SIZE = 16\n",
    "plt.rc('font', size=MEDIUM_SIZE)          # controls default text sizes\n",
    "plt.rc('axes', titlesize=MEDIUM_SIZE)     # fontsize of the axes title\n",
    "plt.rc('axes', labelsize=MEDIUM_SIZE)     # fontsize of the x and y labels\n",
    "plt.rc('xtick', labelsize=MEDIUM_SIZE)    # fontsize of the tick labels\n",
    "plt.rc('ytick', labelsize=MEDIUM_SIZE)    # fontsize of the tick labels\n",
    "plt.rc('legend', fontsize=MEDIUM_SIZE)    # legend fontsize"
   ]
  },
  {
   "cell_type": "markdown",
   "metadata": {
    "tags": []
   },
   "source": [
    "## PTP Plot"
   ]
  },
  {
   "cell_type": "code",
   "execution_count": null,
   "metadata": {
    "tags": []
   },
   "outputs": [],
   "source": [
    "json = []\n",
    "with open('ptp4l_2.json', 'r') as file:\n",
    "    for line in file.readlines():\n",
    "        json.append(loads(line))\n",
    "n = 0\n",
    "y = []\n",
    "for i in json:\n",
    "    m = i['MESSAGE']\n",
    "    if \"rms\" in m:\n",
    "        v = int(m.rsplit(\"rms\")[1].rsplit(\"max\")[0].strip())\n",
    "        y.append(v)\n",
    "\n",
    "x = arange(0, len(y), 1)"
   ]
  },
  {
   "cell_type": "code",
   "execution_count": null,
   "metadata": {
    "tags": []
   },
   "outputs": [],
   "source": [
    "colors = [c for c in sns.color_palette()]\n",
    "fig, ax = plt.subplots()\n",
    "plt.boxplot(y, patch_artist=True, boxprops=dict(facecolor=colors[0], hatch=\"//\"))\n",
    "\"\"\"\n",
    "plt.grid(visible=True,\n",
    "         which='major',\n",
    "         color='lightgrey',\n",
    "         linestyle='-')\n",
    "plt.grid(visible=True,\n",
    "         which='minor',\n",
    "         color='lightgrey',\n",
    "         linestyle='--')\n",
    "\"\"\"\n",
    "plt.xticks([])\n",
    "ax.yaxis.set_minor_locator(tck.AutoMinorLocator())\n",
    "plt.ylabel(\"Deviation rms [ns]\")\n",
    "plt.ylim([-0.5, 27])\n",
    "plt.legend(handles=[mpatches.Patch(facecolor=colors[0],\n",
    "                                label='GM Deviation',\n",
    "                                hatch=\"//\",\n",
    "                                edgecolor=\"black\"),\n",
    "                    mlines.Line2D([0], [0], \n",
    "                                  marker='o',\n",
    "                                  color='black',\n",
    "                                  label='Outlier',\n",
    "                                  markerfacecolor='None',\n",
    "                                  markersize=7,\n",
    "                                  linestyle='None'),\n",
    "                    mlines.Line2D([0], [0],\n",
    "                                  marker=\"None\",\n",
    "                                  color=colors[1],\n",
    "                                  label='Median')\n",
    "                   ])\n",
    "#plt.show()\n",
    "plt.savefig(\"ptp_accuracy.pdf\", dpi=300)\n",
    "plt.close()"
   ]
  },
  {
   "cell_type": "code",
   "execution_count": null,
   "metadata": {
    "tags": []
   },
   "outputs": [],
   "source": [
    "df = DataFrame(y, columns=[\"Deviation\"])"
   ]
  },
  {
   "cell_type": "code",
   "execution_count": null,
   "metadata": {
    "tags": []
   },
   "outputs": [],
   "source": [
    "pkt_count=[]\n",
    "stats_df = df.groupby('Deviation')['Deviation'].agg('count').pipe(DataFrame) \\\n",
    "            .rename(columns = {'Deviation': 'frequency'})\n",
    "stats_df['pmf'] = stats_df['frequency'] / sum(stats_df['frequency'])\n",
    "pkt_count.append(sum(stats_df['frequency']))\n",
    "stats_df['cdf'] = stats_df['pmf'].cumsum()\n",
    "stats_df['ccdf'] = 1 - stats_df['pmf'].cumsum()\n",
    "stats_df.iloc[-1, stats_df.columns.get_loc('ccdf')] = 0\n",
    "stats_df = stats_df.reset_index()"
   ]
  },
  {
   "cell_type": "code",
   "execution_count": null,
   "metadata": {
    "tags": []
   },
   "outputs": [],
   "source": [
    "plt.plot(stats_df['Deviation'], stats_df['cdf'], '--o')\n",
    "#plt.plot(stats_dfs[1]['Latency (ns)'], stats_dfs[1]['ccdf'], '-.')\n",
    "#plt.plot(stats_dfs[2]['Latency (ns)'], stats_dfs[2]['ccdf'], ':')\n",
    "\n",
    "colors = [c for c in sns.color_palette()]\n",
    "\n",
    "legend = mlines.Line2D([], [], color=colors[0], linestyle='--',\n",
    "                          markersize=7, label='GM Deviation', marker='o')\n",
    "plt.legend(handles=[legend],\n",
    "           loc='right')\n",
    "\n",
    "plt.grid(visible=True,\n",
    "         which='major',\n",
    "         color='lightgrey',\n",
    "         linestyle='-')\n",
    "plt.grid(visible=True,\n",
    "         which='minor',\n",
    "         color='lightgrey',\n",
    "         linestyle='--')\n",
    "\n",
    "#plt.yscale(\"log\")\n",
    "#plt.xscale(\"log\")\n",
    "#plt.ylim((3e-5,1.3))\n",
    "#plt.xlim((3e3,3e6))\n",
    "\n",
    "plt.xlabel(\"Deviation rms [ns]\")\n",
    "plt.ylabel(\"CDF\")\n",
    "\n",
    "plt.tight_layout()\n",
    "plt.savefig(\"ptp_accuracy_cdf.png\", dpi=300)\n",
    "plt.close(\"all\")\n",
    "#plt.show()"
   ]
  },
  {
   "cell_type": "markdown",
   "metadata": {},
   "source": [
    "## Other Plots"
   ]
  },
  {
   "cell_type": "code",
   "execution_count": null,
   "metadata": {
    "tags": []
   },
   "outputs": [],
   "source": [
    "INPUT = \"-BBB\"\n",
    "FRAMESIZE = 60\n",
    "TAS_CONFIG = 1\n",
    "STREAMS = [\"robotic\", \"audio\", \"video\"]\n",
    "\n",
    "configs = ['FibroLAN-FalconRX{}_No-QoS_{}_0.0percent'.format(INPUT, FRAMESIZE),\n",
    "           'FibroLAN-FalconRX{}_No-QoS_{}_120.0percent'.format(INPUT, FRAMESIZE),\n",
    "           'FibroLAN-FalconRX{}_IEEE-802.1p_{}_120.0percent'.format(INPUT, FRAMESIZE),\n",
    "           'FibroLAN-FalconRX{}_TAS{}_{}_120.0percent'.format(INPUT, TAS_CONFIG, FRAMESIZE)]\n",
    "#rel_path = '/home/arch/testbed_src/src/measurements/successful_measurements/'\n",
    "rel_path = \"/mnt/harddrive/data/backup/old/\"\n",
    "\n",
    "\n",
    "dfs = {}\n",
    "for c in configs:\n",
    "    dfs[c] = {}\n",
    "    for s in STREAMS:\n",
    "        dfs[c][s] = read_csv('{}{}/csv/{}.csv'.format(rel_path, c, s),\n",
    "                             delimiter=\",\",\n",
    "                             usecols=['Latency (ns)'],\n",
    "                             dtype=int)\n",
    "\n",
    "data = []\n",
    "\n",
    "for c in configs:\n",
    "    d = []\n",
    "    for s in STREAMS:\n",
    "        d.append(dfs[c][s]['Latency (ns)'])\n",
    "    data.append(d)\n",
    "\n",
    "labels = ['Baseline',\n",
    "          'Baseline + BG',\n",
    "          'IEEE 802.1Q + BG',\n",
    "          'IEEE 802.1Qbv + BG']"
   ]
  },
  {
   "cell_type": "code",
   "execution_count": null,
   "metadata": {
    "tags": []
   },
   "outputs": [],
   "source": [
    "showfliers = True\n",
    "notch = True\n",
    "sym = 'o'\n",
    "markersize = 0.5\n",
    "colors = [c for c in sns.color_palette()]\n",
    "\n",
    "i = 1\n",
    "for c in data:\n",
    "    box1 = plt.boxplot(c[0],\n",
    "                       positions=[i-0.2],\n",
    "                       showfliers=showfliers,\n",
    "                       sym=sym,\n",
    "                       patch_artist=True,\n",
    "                       boxprops=dict(facecolor=colors[0], hatch=\"//\"),\n",
    "                       notch=notch,\n",
    "                       flierprops=dict(markersize=markersize))\n",
    "    box2 = plt.boxplot(c[1],\n",
    "                       positions=[i],\n",
    "                       showfliers=showfliers,\n",
    "                       sym=sym,\n",
    "                       patch_artist=True,\n",
    "                       boxprops=dict(facecolor=colors[1], hatch=\"\\\\\\\\\"),\n",
    "                       notch=notch,\n",
    "                       flierprops=dict(markersize=markersize))\n",
    "    box3 = plt.boxplot(c[2],\n",
    "                       positions=[i+0.2],\n",
    "                       showfliers=showfliers,\n",
    "                       sym=sym,\n",
    "                       patch_artist=True,\n",
    "                       boxprops=dict(facecolor=colors[2], hatch=\"oo\"),\n",
    "                       notch=notch,\n",
    "                       flierprops=dict(markersize=markersize))\n",
    "    i += 1.5\n",
    "\n",
    "xlocs = arange(1, i, 1.5)\n",
    "\n",
    "robotic_legend = mpatches.Patch(facecolor=colors[0],\n",
    "                                label='Tactile',\n",
    "                                hatch=\"//\",\n",
    "                                edgecolor=\"black\")\n",
    "audio_legend = mpatches.Patch(facecolor=colors[1],\n",
    "                              label='Audio',\n",
    "                              hatch=\"\\\\\\\\\",\n",
    "                              edgecolor=\"black\")\n",
    "video_legend = mpatches.Patch(facecolor=colors[2],\n",
    "                              label='Video',\n",
    "                              hatch=\"oo\",\n",
    "                              edgecolor=\"black\")\n",
    "\n",
    "plt.legend(handles=[robotic_legend,\n",
    "                    audio_legend,\n",
    "                    video_legend])\n",
    "plt.xticks(xlocs, labels, rotation=15)\n",
    "plt.ylabel('One-way Latency [ns]')\n",
    "plt.yscale('log')\n",
    "plt.grid(visible=True,\n",
    "         which='major',\n",
    "         color='lightgrey',\n",
    "         linestyle='-')\n",
    "plt.grid(visible=True,\n",
    "         which='minor',\n",
    "         color='lightgrey',\n",
    "         linestyle='--')\n",
    "plt.tight_layout()\n",
    "plt.savefig('figure6.png',\n",
    "            dpi=600)\n",
    "plt.close()\n",
    "#plt.show()"
   ]
  }
 ],
 "metadata": {
  "interpreter": {
   "hash": "e7370f93d1d0cde622a1f8e1c04877d8463912d04d973331ad4851f04de6915a"
  },
  "kernelspec": {
   "display_name": "Python 3 (ipykernel)",
   "language": "python",
   "name": "python3"
  },
  "language_info": {
   "codemirror_mode": {
    "name": "ipython",
    "version": 3
   },
   "file_extension": ".py",
   "mimetype": "text/x-python",
   "name": "python",
   "nbconvert_exporter": "python",
   "pygments_lexer": "ipython3",
   "version": "3.10.4"
  }
 },
 "nbformat": 4,
 "nbformat_minor": 4
}
