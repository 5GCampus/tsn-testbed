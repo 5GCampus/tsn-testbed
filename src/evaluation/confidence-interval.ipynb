{
 "cells": [
  {
   "cell_type": "code",
   "execution_count": null,
   "id": "af1ef76b-977d-41ec-be51-413fe3f6b723",
   "metadata": {},
   "outputs": [],
   "source": [
    "from pandas import read_csv, DataFrame\n",
    "from statistics import NormalDist"
   ]
  },
  {
   "cell_type": "code",
   "execution_count": null,
   "id": "5217cf44-4e8a-4618-b3fe-09a6c258112c",
   "metadata": {},
   "outputs": [],
   "source": [
    "INPUT = \"-BBB\"\n",
    "FRAMESIZE = 60\n",
    "#TAS_CONFIG = 1\n",
    "STREAMS = [\"robotic\", \"audio\", \"video\"]\n",
    "\n",
    "configs = ['FibroLAN-FalconRX{}_No-QoS_{}_0.0percent'.format(INPUT, FRAMESIZE),\n",
    "           'FibroLAN-FalconRX{}_No-QoS_{}_120.0percent'.format(INPUT, FRAMESIZE),\n",
    "           'FibroLAN-FalconRX{}_IEEE-802.1p_{}_120.0percent'.format(INPUT, FRAMESIZE),\n",
    "           'FibroLAN-FalconRX{}_TAS{}_{}_120.0percent'.format(INPUT, 1, FRAMESIZE),\n",
    "           'FibroLAN-FalconRX{}_TAS{}_{}_120.0percent'.format(INPUT, 5, FRAMESIZE)]\n",
    "rel_path = '../measurements/successful_measurements/'\n",
    "\n",
    "dfs = {}\n",
    "for c in configs:\n",
    "    dfs[c] = {}\n",
    "    for s in STREAMS:\n",
    "        dfs[c][s] = read_csv('{}{}/csv/{}.csv'.format(rel_path, c, s),\n",
    "                             delimiter=\",\",\n",
    "                             usecols=['Latency (ns)'],\n",
    "                             dtype=int)"
   ]
  },
  {
   "cell_type": "code",
   "execution_count": null,
   "id": "5d63d9fb-f1d2-4d70-87e9-54b82557f0e4",
   "metadata": {},
   "outputs": [],
   "source": [
    "# https://stackoverflow.com/a/55270860\n",
    "def confidence_interval(data, confidence=0.99):\n",
    "    dist = NormalDist.from_samples(data)\n",
    "    z = NormalDist().inv_cdf((1 + confidence) / 2.)\n",
    "    e = dist.stdev * z / ((len(data) - 1) ** .5)\n",
    "    return e"
   ]
  },
  {
   "cell_type": "code",
   "execution_count": null,
   "id": "fb4c13aa-0b03-4083-9aa6-485aedd2936f",
   "metadata": {},
   "outputs": [],
   "source": [
    "for c in configs:\n",
    "    for s in STREAMS:\n",
    "        ci = confidence_interval(dfs[c][s]['Latency (ns)'])\n",
    "        print(c, s, ci)\n",
    "    print(\"\\n\")"
   ]
  }
 ],
 "metadata": {
  "kernelspec": {
   "display_name": "Python 3 (ipykernel)",
   "language": "python",
   "name": "python3"
  },
  "language_info": {
   "codemirror_mode": {
    "name": "ipython",
    "version": 3
   },
   "file_extension": ".py",
   "mimetype": "text/x-python",
   "name": "python",
   "nbconvert_exporter": "python",
   "pygments_lexer": "ipython3",
   "version": "3.10.4"
  }
 },
 "nbformat": 4,
 "nbformat_minor": 5
}
