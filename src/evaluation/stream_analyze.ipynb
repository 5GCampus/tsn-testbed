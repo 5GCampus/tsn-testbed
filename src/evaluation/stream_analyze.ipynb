{
 "cells": [
  {
   "cell_type": "markdown",
   "id": "743f8022-0b75-491a-bbed-0761150a4f03",
   "metadata": {},
   "source": [
    "# Analyze PCAPs"
   ]
  },
  {
   "cell_type": "markdown",
   "id": "27862111-77e8-4770-81e9-b7975c397040",
   "metadata": {
    "tags": []
   },
   "source": [
    "## Distance between Frames"
   ]
  },
  {
   "cell_type": "code",
   "execution_count": null,
   "id": "34acebcf-1de3-408a-94a4-f5c0db631ae2",
   "metadata": {
    "tags": []
   },
   "outputs": [],
   "source": [
    "from dpkt.pcap import Reader\n",
    "from scipy import stats\n",
    "from numpy import median\n",
    "import seaborn as sns\n",
    "sns.set_theme()"
   ]
  },
  {
   "cell_type": "code",
   "execution_count": null,
   "id": "c7791105-8acd-499e-9def-c6492a17d7bc",
   "metadata": {
    "tags": []
   },
   "outputs": [],
   "source": [
    "input_filename = \"/home/arch/testbed_src/src/pcap_writer/videoBBB.pcap\"\n",
    "reader = Reader(open(input_filename, \"rb\"))\n",
    "\n",
    "timestamps = []\n",
    "for ts, buf in reader:\n",
    "    timestamps.append(ts)\n",
    "    \n",
    "ifg = []\n",
    "\n",
    "last = 0\n",
    "for ts in timestamps:\n",
    "    ifg.append(float(ts - last))\n",
    "    last = ts"
   ]
  },
  {
   "cell_type": "code",
   "execution_count": null,
   "id": "68393970-b0ef-4cf9-99eb-01cec3d55369",
   "metadata": {
    "tags": []
   },
   "outputs": [],
   "source": [
    "print(stats.describe(ifg))\n",
    "print(median(ifg))"
   ]
  },
  {
   "cell_type": "code",
   "execution_count": null,
   "id": "34eb679b-b034-47b6-ae0d-feb461392b25",
   "metadata": {
    "tags": []
   },
   "outputs": [],
   "source": [
    "ax = sns.ecdfplot(ifg, complementary=False, stat=\"proportion\", log_scale=True)\n",
    "ax.set(xlabel='Distance between Frames [µs]', ylabel='ECDF', title=\"BBB Video [h264,1080p,60fps]\")\n",
    "plt.savefig(\"videoBBB-ecdf.png\", dpi=300)\n",
    "plt.show()"
   ]
  },
  {
   "cell_type": "code",
   "execution_count": null,
   "id": "671202ce-bac8-4c22-96d6-43f22d7cb2f2",
   "metadata": {
    "tags": []
   },
   "outputs": [],
   "source": [
    "ax = sns.histplot(ifg, stat=\"percent\", log_scale=True)\n",
    "ax.set(xlabel='Distance between Frames [µs]', ylabel='Percent', title=\"BBB Video [h264,1080p,60fps]\")\n",
    "plt.savefig(\"videoBBB-hist.png\", dpi=300)\n",
    "plt.show()"
   ]
  },
  {
   "cell_type": "markdown",
   "id": "43aecca4-95db-43b2-98e0-cfc509dc69d6",
   "metadata": {},
   "source": [
    "## Frame Size"
   ]
  },
  {
   "cell_type": "code",
   "execution_count": null,
   "id": "3ec488fc-b570-40b7-8dcb-1e15e26e053d",
   "metadata": {
    "tags": []
   },
   "outputs": [],
   "source": [
    "from dpkt.pcap import Reader\n",
    "from dpkt.ethernet import Ethernet\n",
    "from pandas import DataFrame, Series"
   ]
  },
  {
   "cell_type": "code",
   "execution_count": null,
   "id": "d04313cd-80a1-4006-af41-41f530396f27",
   "metadata": {
    "tags": []
   },
   "outputs": [],
   "source": [
    "files = ['podcast',\n",
    "         'robotic',\n",
    "         'audio',\n",
    "         'spotJPEGhost',\n",
    "         'spotJPEGspot',\n",
    "         'spotRAWhost',\n",
    "         'spotRAWspot',\n",
    "         'spotWASDhost',\n",
    "         'spotWASDspot',\n",
    "         'tactileGLOVE',\n",
    "         'videoBBB']\n",
    "\n",
    "path = \"/home/arch/testbed_src/src/pcap_writer/\"\n",
    "\n",
    "file_path = [\"{}{}.pcap\".format(path, f) for f in files]"
   ]
  },
  {
   "cell_type": "code",
   "execution_count": null,
   "id": "ba4bf34c-a997-404b-a9fa-4b5b34cd96fa",
   "metadata": {
    "tags": []
   },
   "outputs": [],
   "source": [
    "frame_sizes_all = {}\n",
    "for file, path in zip(files, file_path):\n",
    "    reader = Reader(open(path, \"rb\"))\n",
    "    frame_sizes = []\n",
    "    for ts, buf in reader:\n",
    "        eth = Ethernet(buf)\n",
    "        frame_sizes.append(len(eth))\n",
    "    frame_sizes_all[file] = frame_sizes\n",
    "df = DataFrame(dict([(k, Series(v)) for k, v in frame_sizes_all.items()]))"
   ]
  },
  {
   "cell_type": "markdown",
   "id": "2e9e2c66-081f-4173-897f-a454d350fff5",
   "metadata": {},
   "source": [
    "https://pandas.pydata.org/docs/reference/api/pandas.DataFrame.describe.html\n",
    "> Descriptive statistics include those that summarize the central tendency, dispersion and shape of a dataset’s distribution, excluding NaN values."
   ]
  },
  {
   "cell_type": "code",
   "execution_count": null,
   "id": "26ff9e67-49d2-41b8-a605-4dbefcc46141",
   "metadata": {
    "tags": []
   },
   "outputs": [],
   "source": [
    "stats = df.describe()"
   ]
  },
  {
   "cell_type": "code",
   "execution_count": null,
   "id": "0706d8f5-01c4-4936-9e8f-506cf919239f",
   "metadata": {
    "tags": []
   },
   "outputs": [],
   "source": [
    "stats.to_csv('input_pcaps_frame_sizes.csv')"
   ]
  },
  {
   "cell_type": "code",
   "execution_count": null,
   "id": "79c703cf-c67e-431c-beff-72117def2fa5",
   "metadata": {
    "tags": []
   },
   "outputs": [],
   "source": [
    "stats"
   ]
  }
 ],
 "metadata": {
  "kernelspec": {
   "display_name": "Python 3 (ipykernel)",
   "language": "python",
   "name": "python3"
  },
  "language_info": {
   "codemirror_mode": {
    "name": "ipython",
    "version": 3
   },
   "file_extension": ".py",
   "mimetype": "text/x-python",
   "name": "python",
   "nbconvert_exporter": "python",
   "pygments_lexer": "ipython3",
   "version": "3.10.4"
  }
 },
 "nbformat": 4,
 "nbformat_minor": 5
}
