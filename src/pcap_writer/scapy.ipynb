{
 "cells": [
  {
   "cell_type": "markdown",
   "id": "acc2dc3a",
   "metadata": {},
   "source": [
    "# Create PCAPs with specific patterns and payload sizes for measurement"
   ]
  },
  {
   "cell_type": "code",
   "execution_count": 39,
   "id": "475306b7",
   "metadata": {},
   "outputs": [],
   "source": [
    "from scapy.all import Ether, Dot1Q, RawPcapWriter, IP, UDP"
   ]
  },
  {
   "cell_type": "code",
   "execution_count": 42,
   "id": "648fe881-aafa-437d-9598-768b5b81defc",
   "metadata": {},
   "outputs": [],
   "source": [
    "ETH_DST = '1c:1b:0d:9a:70:8c'\n",
    "DST_IP = '192.168.1.104'\n",
    "VLAN_ID = 123\n",
    "VLAN_TYPE = 0x0800"
   ]
  },
  {
   "cell_type": "code",
   "execution_count": 41,
   "id": "b2457323-0fd8-4dfb-b588-c03f959c2ff9",
   "metadata": {},
   "outputs": [],
   "source": [
    "def get_header(payload, pkt_id, vlan_prio, eth_src, src_ip):\n",
    "    return Ether(dst=ETH_DST,\n",
    "                     src=eth_src\n",
    "                    )/Dot1Q(prio=vlan_prio,\n",
    "                            vlan=VLAN_ID,\n",
    "                            type=VLAN_TYPE\n",
    "                           )/IP(id=pkt_id,\n",
    "                                version=4,\n",
    "                                dst=DST_IP,\n",
    "                                src=src_ip)/UDP(sport=10001,\n",
    "                                                    dport=10002)/payload"
   ]
  },
  {
   "cell_type": "markdown",
   "id": "0ce02532",
   "metadata": {},
   "source": [
    "## Video Use Case\n",
    "- mean frame size from video_trace2 = 3527B\n",
    "- send each 1/24s 3527B"
   ]
  },
  {
   "cell_type": "code",
   "execution_count": 45,
   "id": "f9c0f176",
   "metadata": {},
   "outputs": [],
   "source": [
    "FILE_VIDEO = 'video.pcap'\n",
    "ETH_SRC = '00:00:00:00:00:03'\n",
    "SRC_IP = '192.168.1.222'\n",
    "PAYLOAD_FULL = 1472 * '0'\n",
    "PAYLOAD_REST = 583 * '0'\n",
    "VLAN_PRIO = 3\n",
    "\n",
    "pcap = RawPcapWriter(open(FILE_VIDEO, 'wb'), nano=True, linktype=1, sync=True, append=True)\n",
    "\n",
    "ID = 1\n",
    "\n",
    "for i in range(0,60):\n",
    "    for u in range(0,24):\n",
    "        usec = u*1/24\n",
    "        \n",
    "        usec_round = int(round(usec,9) * 1e9)\n",
    "        header = get_header(PAYLOAD_FULL, ID, VLAN_PRIO, ETH_SRC, SRC_IP)\n",
    "        pcap.write_header(header)\n",
    "        pcap.write_packet(header, sec=i, usec=usec_round)\n",
    "        ID += 1\n",
    "        \n",
    "        usec_round = int(round(usec + 0.000000001,9) * 1e9)\n",
    "        header = get_header(PAYLOAD_FULL, ID, VLAN_PRIO, ETH_SRC, SRC_IP)\n",
    "        pcap.write_header(header)\n",
    "        pcap.write_packet(header, sec=i, usec=usec_round)\n",
    "        ID += 1\n",
    "        \n",
    "        usec_round = int(round(usec + 0.000000002,9) * 1e9)\n",
    "        header = get_header(PAYLOAD_REST, ID, VLAN_PRIO, ETH_SRC, SRC_IP)\n",
    "        pcap.write_header(header)\n",
    "        pcap.write_packet(header, sec=i, usec=usec_round)\n",
    "        ID += 1"
   ]
  },
  {
   "cell_type": "markdown",
   "id": "47268053",
   "metadata": {},
   "source": [
    "## Robotic Use Case\n",
    "- send each ms 128B incl. header"
   ]
  },
  {
   "cell_type": "code",
   "execution_count": 46,
   "id": "c246880b",
   "metadata": {},
   "outputs": [],
   "source": [
    "FILE_ROBOTIC = 'robotic.pcap'\n",
    "ETH_SRC = '00:00:00:00:00:01'\n",
    "SRC_IP = '192.168.1.238'\n",
    "PAYLOAD = 82 * '0'\n",
    "VLAN_PRIO = 1\n",
    "\n",
    "pcap = RawPcapWriter(open(FILE_ROBOTIC, 'wb'), nano=True, linktype=1, sync=True, append=True)\n",
    "\n",
    "ID = 1\n",
    "\n",
    "for sec in range(0,60):\n",
    "    for usec in range(0,1000):\n",
    "        usec = usec * 1000000\n",
    "        header = get_header(PAYLOAD, ID, VLAN_PRIO, ETH_SRC, SRC_IP)\n",
    "        pcap.write_header(header)\n",
    "        pcap.write_packet(header, sec=sec, usec=usec)\n",
    "        ID += 1"
   ]
  },
  {
   "cell_type": "markdown",
   "id": "5f653337",
   "metadata": {},
   "source": [
    "## Audio Use Case\n",
    "- send each 20ms 85B + Header"
   ]
  },
  {
   "cell_type": "code",
   "execution_count": 47,
   "id": "ec571ac7",
   "metadata": {},
   "outputs": [],
   "source": [
    "FILE_AUDIO = 'audio.pcap'\n",
    "ETH_SRC = '00:00:00:00:00:02'\n",
    "SRC_IP = '192.168.1.222'\n",
    "PAYLOAD = 85 * '0'\n",
    "VLAN_PRIO = 2\n",
    "\n",
    "pcap = RawPcapWriter(open(FILE_AUDIO, 'wb'), nano=True, linktype=1, sync=True, append=True)\n",
    "pcap.write_header(pkt)\n",
    "\n",
    "ID = 1\n",
    "\n",
    "for sec in range(0,60):\n",
    "    for usec in range(0,50):\n",
    "        usec = usec * 20000000\n",
    "        header = get_header(PAYLOAD, ID, VLAN_PRIO, ETH_SRC, SRC_IP)\n",
    "        pcap.write_header(header)\n",
    "        pcap.write_packet(header, sec=sec, usec=usec)\n",
    "        ID += 1"
   ]
  },
  {
   "cell_type": "code",
   "execution_count": null,
   "id": "30420cc1-bd1e-4803-b262-95748c58312d",
   "metadata": {},
   "outputs": [],
   "source": []
  }
 ],
 "metadata": {
  "kernelspec": {
   "display_name": "Python 3",
   "language": "python",
   "name": "python3"
  },
  "language_info": {
   "codemirror_mode": {
    "name": "ipython",
    "version": 3
   },
   "file_extension": ".py",
   "mimetype": "text/x-python",
   "name": "python",
   "nbconvert_exporter": "python",
   "pygments_lexer": "ipython3",
   "version": "3.9.5"
  }
 },
 "nbformat": 4,
 "nbformat_minor": 5
}
