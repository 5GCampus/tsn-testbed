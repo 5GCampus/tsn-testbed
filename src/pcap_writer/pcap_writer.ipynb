{
 "cells": [
  {
   "cell_type": "markdown",
   "id": "f5ed041d-4d2a-4561-ac3d-4696e84900fd",
   "metadata": {},
   "source": [
    "# Create PCAPs"
   ]
  },
  {
   "cell_type": "code",
   "execution_count": 1,
   "id": "abd345c3-8ba5-4a2f-b59e-cd8312701352",
   "metadata": {
    "execution": {
     "iopub.execute_input": "2022-02-22T17:53:53.049575Z",
     "iopub.status.busy": "2022-02-22T17:53:53.047348Z",
     "iopub.status.idle": "2022-02-22T17:53:54.201707Z",
     "shell.execute_reply": "2022-02-22T17:53:54.201228Z",
     "shell.execute_reply.started": "2022-02-22T17:53:53.047926Z"
    },
    "tags": []
   },
   "outputs": [],
   "source": [
    "from scapy.all import Ether, Dot1Q, RawPcapWriter, IP, UDP\n",
    "from dpkt.pcap import Reader\n",
    "from json import load\n",
    "from pandas import DataFrame, to_numeric\n",
    "from math import ceil, modf\n",
    "from decimal import Decimal"
   ]
  },
  {
   "cell_type": "markdown",
   "id": "8a09d5c2-edf0-4b5b-b717-af2b4496382e",
   "metadata": {
    "tags": []
   },
   "source": [
    "## BigBuckBunny\n",
    "- read audio frames as json and parse to pandas DataFrame"
   ]
  },
  {
   "cell_type": "code",
   "execution_count": 2,
   "id": "113fb2b6-55fd-4f4a-9692-a0e51ac2e7c4",
   "metadata": {},
   "outputs": [],
   "source": [
    "with open(\"BigBuckBunny/bbb_audio_frames.json\") as audio_json_raw:\n",
    "    audio_json = load(audio_json_raw)\n",
    "df_a = DataFrame.from_dict(audio_json['frames'])\n",
    "df_a['pkt_size'] = to_numeric(df_a['pkt_size'])"
   ]
  },
  {
   "cell_type": "code",
   "execution_count": 3,
   "id": "162a94bc-9ec4-4b39-9156-f5a797fb3585",
   "metadata": {},
   "outputs": [],
   "source": [
    "with open(\"BigBuckBunny/bbb_video_frames.json\") as video_json_raw:\n",
    "    video_json = load(video_json_raw)\n",
    "df_v = DataFrame.from_dict(video_json['frames'])\n",
    "df_v['pkt_size'] = to_numeric(df_v['pkt_size'])"
   ]
  },
  {
   "cell_type": "markdown",
   "id": "b17b2b42-0e6d-4273-b089-8b4d4d24c2cc",
   "metadata": {},
   "source": [
    "- create pcaps from DataFrames"
   ]
  },
  {
   "cell_type": "code",
   "execution_count": 4,
   "id": "2860e1c0-0539-4884-b8f3-493a884ba42f",
   "metadata": {},
   "outputs": [],
   "source": [
    "PATH = \"pcap/\"\n",
    "ETH_DST = '1c:1b:0d:9a:70:8c'\n",
    "VLAN_TYPE = 0x0800\n",
    "VLAN_ID = 3"
   ]
  },
  {
   "cell_type": "code",
   "execution_count": 45,
   "id": "0f8341d4-0a4e-409e-8ebf-da212fc2f875",
   "metadata": {},
   "outputs": [],
   "source": [
    "def get_header(payload, pkt_id, vlan_prio, eth_src):\n",
    "    return Ether(dst=ETH_DST,\n",
    "                     src=eth_src\n",
    "                    )/Dot1Q(prio=vlan_prio,\n",
    "                            vlan=VLAN_ID,\n",
    "                            type=VLAN_TYPE\n",
    "                           )/IP(id=pkt_id,\n",
    "                                version=4,\n",
    "                                dst='10.0.0.2',\n",
    "                                src='10.0.0.1')/UDP(sport=10001,\n",
    "                                                    dport=10002)/payload\n",
    "\n",
    "\n",
    "def inc_pkt_id(pkt_id):\n",
    "    if pkt_id >= 65535:\n",
    "        return 0\n",
    "    else:\n",
    "        return pkt_id + 1"
   ]
  },
  {
   "cell_type": "markdown",
   "id": "6954c1c0-8726-450c-830a-5c66f54e4a52",
   "metadata": {},
   "source": [
    "### audio pcap"
   ]
  },
  {
   "cell_type": "code",
   "execution_count": 8,
   "id": "89475f83-bcbf-4c98-9191-468ed35414e9",
   "metadata": {},
   "outputs": [],
   "source": [
    "AUDIO_PATH = PATH + 'audio.pcap'\n",
    "AUDIO_ETH_SRC = '00:00:00:00:00:02'\n",
    "AUDIO_PAYLOAD = 480 * '0'\n",
    "AUDIO_VLAN_PRIO = 5\n",
    "\n",
    "audio_pcap = RawPcapWriter(open(AUDIO_PATH, 'wb'), nano=False, linktype=1, sync=True, append=True)\n",
    "\n",
    "for index, row in df_a.iterrows():\n",
    "    time = row['best_effort_timestamp_time'].rsplit(\".\")\n",
    "    sec = int(time[0])\n",
    "    usec = int(time[1])\n",
    "    audio_header = get_header(payload=AUDIO_PAYLOAD, pkt_id=index, vlan_prio=AUDIO_VLAN_PRIO, eth_src=AUDIO_ETH_SRC)\n",
    "    audio_pcap.write_header(audio_header)\n",
    "    audio_pcap.write_packet(audio_header, sec=sec, usec=usec)"
   ]
  },
  {
   "cell_type": "markdown",
   "id": "2632e373-be95-4399-ae40-d4eec4fd4976",
   "metadata": {},
   "source": [
    "### video pcap"
   ]
  },
  {
   "cell_type": "code",
   "execution_count": 42,
   "id": "6db0c686-586d-43ad-8409-18ee85929308",
   "metadata": {},
   "outputs": [],
   "source": [
    "VIDEO_PATH = PATH + 'video.pcap'\n",
    "VIDEO_ETH_SRC = '00:00:00:00:00:03'\n",
    "VIDEO_VLAN_PRIO = 4\n",
    "FULL_PAYLOAD = 1472\n",
    "FULL_PAYLOAD_ZEROS = FULL_PAYLOAD * '0'\n",
    "\n",
    "video_pcap = RawPcapWriter(open(VIDEO_PATH, 'wb'), nano=True, linktype=1, sync=True, append=True)"
   ]
  },
  {
   "cell_type": "code",
   "execution_count": 43,
   "id": "396902ad-64fe-4d4e-ad6c-231bc238bc39",
   "metadata": {},
   "outputs": [],
   "source": [
    "pkt_id = 0\n",
    "for _, row in df_v.iterrows():\n",
    "    time = row['best_effort_timestamp_time'].rsplit(\".\")\n",
    "    sec = int(time[0])\n",
    "    nsec = int(time[1]) * 1000\n",
    "    size = row['pkt_size']\n",
    "    full, part = divmod(size, FULL_PAYLOAD)\n",
    "    for _ in range(0, full):\n",
    "        video_header = get_header(payload=FULL_PAYLOAD_ZEROS, pkt_id=pkt_id, vlan_prio=VIDEO_VLAN_PRIO, eth_src=VIDEO_ETH_SRC)\n",
    "        video_pcap.write_header(video_header)\n",
    "        video_pcap.write_packet(video_header, sec=sec, usec=nsec)\n",
    "        nsec += 1\n",
    "        pkt_id = inc_pkt_id(pkt_id)\n",
    "    part = part * '0'\n",
    "    video_header = get_header(payload=part, pkt_id=pkt_id, vlan_prio=VIDEO_VLAN_PRIO, eth_src=VIDEO_ETH_SRC)\n",
    "    video_pcap.write_header(video_header)\n",
    "    video_pcap.write_packet(video_header, sec=sec, usec=nsec)\n",
    "    pkt_id = inc_pkt_id(pkt_id)"
   ]
  },
  {
   "cell_type": "markdown",
   "id": "06cbc6b9-79f8-43f2-a51f-e15ef2c8d53e",
   "metadata": {},
   "source": [
    "### robotic pcap"
   ]
  },
  {
   "cell_type": "code",
   "execution_count": 58,
   "id": "95d6ed9b-d3fa-4e02-8c31-966ff6438e82",
   "metadata": {},
   "outputs": [],
   "source": [
    "ROBOTIC_LENGTH = ceil(max(float(df_a.iloc[-1]['best_effort_timestamp_time']), float(df_v.iloc[-1]['best_effort_timestamp_time'])))\n",
    "\n",
    "ROBOTIC_PATH = PATH + 'robotic.pcap'\n",
    "ROBOTIC_ETH_SRC = '00:00:00:00:00:01'\n",
    "ROBOTIC_VLAN_PRIO = 6\n",
    "ROBOTIC_PAYLOAD = 82 * '0'\n",
    "\n",
    "robotic_pcap = RawPcapWriter(open(ROBOTIC_PATH, 'wb'), nano=False, linktype=1, sync=True, append=True)"
   ]
  },
  {
   "cell_type": "code",
   "execution_count": 59,
   "id": "ea216ccc-aa7d-4277-8ad7-9da55a47fbf7",
   "metadata": {},
   "outputs": [],
   "source": [
    "pkt_id = 0\n",
    "\n",
    "for sec in range(0, ROBOTIC_LENGTH):\n",
    "    for msec in range(0,1000):\n",
    "        usec = msec * 1000\n",
    "        robotic_header = get_header(payload=ROBOTIC_PAYLOAD, pkt_id=pkt_id, vlan_prio=ROBOTIC_VLAN_PRIO, eth_src=ROBOTIC_ETH_SRC)\n",
    "        robotic_pcap.write_header(robotic_header)\n",
    "        robotic_pcap.write_packet(robotic_header, sec=sec, usec=usec)\n",
    "        pkt_id = inc_pkt_id(pkt_id)"
   ]
  },
  {
   "cell_type": "markdown",
   "id": "3e018320-7852-4e08-a59c-79ff36e03203",
   "metadata": {
    "tags": []
   },
   "source": [
    "## Haptic Glove"
   ]
  },
  {
   "cell_type": "code",
   "execution_count": null,
   "id": "84541b98-0fec-48e0-bbb5-5ae21614cbd0",
   "metadata": {},
   "outputs": [],
   "source": [
    "def get_header(payload, pkt_id, vlan_prio, eth_dst, eth_src):\n",
    "    return Ether(dst=eth_dst,\n",
    "                 src=eth_src\n",
    "                 )/Dot1Q(prio=vlan_prio,\n",
    "                         vlan=VLAN_ID,\n",
    "                         type=VLAN_TYPE\n",
    "                         )/IP(id=pkt_id,\n",
    "                              version=4,\n",
    "                              dst='10.0.0.2',\n",
    "                              src='10.0.0.1')/UDP(sport=10001,\n",
    "                                                  dport=10002)/payload\n",
    "\n",
    "\n",
    "def inc_pkt_id(pkt_id):\n",
    "    if pkt_id >= 65535:\n",
    "        return 0\n",
    "    else:\n",
    "        return pkt_id + 1"
   ]
  },
  {
   "cell_type": "code",
   "execution_count": null,
   "id": "12857045-306a-408a-b881-172862786b32",
   "metadata": {},
   "outputs": [],
   "source": [
    "PATH = \"./\"\n",
    "ETH_DST = '1c:1b:0d:9a:70:8c'\n",
    "VLAN_TYPE = 0x0800\n",
    "VLAN_ID = 3\n",
    "\n",
    "LEN_ETHERNET_HEADER = 18\n",
    "LEN_IP_HEADER = 20\n",
    "LEN_UDP_HEADER = 8\n",
    "LEN_HEADER = LEN_ETHERNET_HEADER + LEN_IP_HEADER + LEN_UDP_HEADER\n",
    "LEN_FRAME_MIN = 64\n",
    "\n",
    "TACTILE_PATH_HOST = \"{}tactile{}.pcap\".format(PATH, \"_host\")\n",
    "TACTILE_PATH_GLOVE = \"{}tactile{}.pcap\".format(PATH, \"_glove\")\n",
    "TACTILE_ETH_SRC = \"00:00:00:00:00:01\"\n",
    "TACTILE_VLAN_PRIO = 6\n",
    "\n",
    "pcap_host = Reader(open(\"raw/senseglove_host_to_glove.pcap\", \"rb\"))\n",
    "pcap_glove = Reader(open(\"raw/senseglove_glove_to_host.pcap\", \"rb\"))\n",
    "pcaps = [pcap_host, pcap_glove]\n",
    "tactile_pcap_host = RawPcapWriter(open(TACTILE_PATH_HOST, 'wb'), nano=False, linktype=1, sync=True, append=True)\n",
    "tactile_pcap_glove = RawPcapWriter(open(TACTILE_PATH_GLOVE, 'wb'), nano=False, linktype=1, sync=True, append=True)\n",
    "pkt_id_host = 0\n",
    "pkt_id_glove = 0\n",
    "TIME_REF_HOST = None\n",
    "TIME_REF_GLOVE = None\n",
    "\n",
    "for pcap in pcaps:\n",
    "    for ts, buf in pcap:\n",
    "        # first 27B = USB header, use payload as bytestream:\n",
    "        hx = buf.hex()\n",
    "        payload = bytes.fromhex(hx[54:])\n",
    "        if len(payload) < (LEN_FRAME_MIN - LEN_HEADER):\n",
    "            payload += str.encode('0' * (LEN_FRAME_MIN - LEN_HEADER)) # pad with zero with packet is too small\n",
    "\n",
    "        if pcap == pcap_glove:\n",
    "            try:\n",
    "                # set time reference:\n",
    "                if not TIME_REF_GLOVE:\n",
    "                    TIME_REF_GLOVE = ts\n",
    "                # create and write header for Ethernet frame:\n",
    "                tactile_header = get_header(payload=payload, pkt_id=pkt_id_glove, vlan_prio=TACTILE_VLAN_PRIO, eth_dst=ETH_DST, eth_src=TACTILE_ETH_SRC)\n",
    "                tactile_pcap_glove.write_header(tactile_header)\n",
    "\n",
    "                # set correct time:\n",
    "                ts_new = ts - TIME_REF_GLOVE\n",
    "                usec, sec = modf(ts_new)\n",
    "                sec = int(sec)\n",
    "                usec = round(usec * 1e6)\n",
    "\n",
    "                # write payload to Ethernet frame:\n",
    "                tactile_pcap_glove.write_packet(tactile_header, sec=sec, usec=usec)\n",
    "                pkt_id_glove = inc_pkt_id(pkt_id_glove)\n",
    "            except Exception as e:\n",
    "                print(e)\n",
    "                print(ts, sec, usec, hx)\n",
    "\n",
    "        elif pcap == pcap_host:\n",
    "            # set time reference:\n",
    "            if not TIME_REF_HOST:\n",
    "                TIME_REF_HOST = ts\n",
    "            # create and write header for Ethernet frame:\n",
    "            tactile_header = get_header(payload=payload, pkt_id=pkt_id_host, vlan_prio=TACTILE_VLAN_PRIO, eth_dst=TACTILE_ETH_SRC, eth_src=ETH_DST)\n",
    "            tactile_pcap_host.write_header(tactile_header)\n",
    "\n",
    "            # set correct time:\n",
    "            ts_new = ts - TIME_REF_HOST\n",
    "            usec, sec = modf(ts_new)\n",
    "            sec = int(sec)\n",
    "            usec = round(usec * 1e6)\n",
    "\n",
    "            # write payload to Ethernet frame:\n",
    "            tactile_pcap_host.write_packet(tactile_header, sec=sec, usec=usec)\n",
    "            pkt_id_host = inc_pkt_id(pkt_id_host)\n",
    "\n",
    "        else:\n",
    "            print(\"ERROR\")\n",
    "            print(hx, pkt_id_glove, pkt_id_host)\n",
    "            break"
   ]
  },
  {
   "cell_type": "markdown",
   "id": "c28f9812-d675-4054-8350-43099de814a9",
   "metadata": {
    "tags": []
   },
   "source": [
    "## Podcast/Speech (Opus Audio)"
   ]
  },
  {
   "cell_type": "code",
   "execution_count": 3,
   "id": "a5307308-cc56-4703-be00-dfaa581d6b0a",
   "metadata": {
    "execution": {
     "iopub.execute_input": "2022-02-10T15:24:31.209157Z",
     "iopub.status.busy": "2022-02-10T15:24:31.208959Z",
     "iopub.status.idle": "2022-02-10T15:24:31.778893Z",
     "shell.execute_reply": "2022-02-10T15:24:31.778403Z",
     "shell.execute_reply.started": "2022-02-10T15:24:31.209140Z"
    },
    "tags": []
   },
   "outputs": [],
   "source": [
    "with open(\"/home/arch/podcast/podcast.json\") as audio_json_raw:\n",
    "    audio_json = load(audio_json_raw)\n",
    "df_a = DataFrame.from_dict(audio_json['frames'])\n",
    "df_a['pkt_size'] = to_numeric(df_a['pkt_size'])"
   ]
  },
  {
   "cell_type": "code",
   "execution_count": 10,
   "id": "1f69cc2b-660c-4b4d-ab63-fb982fbb45e9",
   "metadata": {
    "execution": {
     "iopub.execute_input": "2022-02-10T15:29:13.224948Z",
     "iopub.status.busy": "2022-02-10T15:29:13.224352Z",
     "iopub.status.idle": "2022-02-10T15:29:13.232883Z",
     "shell.execute_reply": "2022-02-10T15:29:13.232134Z",
     "shell.execute_reply.started": "2022-02-10T15:29:13.224877Z"
    }
   },
   "outputs": [],
   "source": [
    "def get_header(payload, pkt_id, vlan_prio, eth_src):\n",
    "    return Ether(dst=ETH_DST,\n",
    "                 src=eth_src\n",
    "                 )/Dot1Q(prio=vlan_prio,\n",
    "                         vlan=VLAN_ID,\n",
    "                         type=VLAN_TYPE\n",
    "                         )/IP(id=pkt_id,\n",
    "                              version=4,\n",
    "                              dst='10.0.0.2',\n",
    "                              src='10.0.0.1')/UDP(sport=10001,\n",
    "                                                  dport=10002)/payload\n",
    "\n",
    "\n",
    "def inc_pkt_id(pkt_id):\n",
    "    if pkt_id >= 65535:\n",
    "        return 0\n",
    "    else:\n",
    "        return pkt_id + 1"
   ]
  },
  {
   "cell_type": "code",
   "execution_count": 12,
   "id": "ed2ef2ba-eef0-4148-8d00-ff78389a2ef4",
   "metadata": {
    "execution": {
     "iopub.execute_input": "2022-02-10T15:30:59.561217Z",
     "iopub.status.busy": "2022-02-10T15:30:59.560627Z",
     "iopub.status.idle": "2022-02-10T15:32:34.591396Z",
     "shell.execute_reply": "2022-02-10T15:32:34.590945Z",
     "shell.execute_reply.started": "2022-02-10T15:30:59.561144Z"
    }
   },
   "outputs": [],
   "source": [
    "PATH = \"./\"\n",
    "ETH_DST = '1c:1b:0d:9a:70:8c'\n",
    "VLAN_TYPE = 0x0800\n",
    "VLAN_ID = 3\n",
    "AUDIO_PATH = PATH + 'audio.pcap'\n",
    "AUDIO_ETH_SRC = '00:00:00:00:00:02'\n",
    "AUDIO_VLAN_PRIO = 5\n",
    "\n",
    "audio_pcap = RawPcapWriter(open(AUDIO_PATH, 'wb'),\n",
    "                           nano=False,\n",
    "                           linktype=1,\n",
    "                           sync=True,\n",
    "                           append=True)\n",
    "\n",
    "pkt_id = 0\n",
    "for _, row in df_a.iterrows():\n",
    "    time = row['best_effort_timestamp_time'].rsplit(\".\")\n",
    "    sec = int(time[0])\n",
    "    usec = int(time[1])\n",
    "    size = row['pkt_size'] * '0'\n",
    "    audio_header = get_header(payload=size,\n",
    "                              pkt_id=pkt_id,\n",
    "                              vlan_prio=AUDIO_VLAN_PRIO,\n",
    "                              eth_src=AUDIO_ETH_SRC)\n",
    "    audio_pcap.write_header(audio_header)\n",
    "    audio_pcap.write_packet(audio_header,\n",
    "                            sec=sec,\n",
    "                            usec=usec)\n",
    "    pkt_id = inc_pkt_id(pkt_id)"
   ]
  },
  {
   "cell_type": "markdown",
   "id": "693f2b27-9c9e-4f88-90d4-bfdfb237d8b2",
   "metadata": {
    "tags": []
   },
   "source": [
    "## Spot Data Streams"
   ]
  },
  {
   "cell_type": "code",
   "execution_count": 2,
   "id": "74c0cf91-d837-4e1e-b20a-8cc14ae32e1a",
   "metadata": {
    "execution": {
     "iopub.execute_input": "2022-02-22T17:54:20.719273Z",
     "iopub.status.busy": "2022-02-22T17:54:20.718673Z",
     "iopub.status.idle": "2022-02-22T17:54:20.725207Z",
     "shell.execute_reply": "2022-02-22T17:54:20.724425Z",
     "shell.execute_reply.started": "2022-02-22T17:54:20.719197Z"
    },
    "tags": []
   },
   "outputs": [],
   "source": [
    "def get_header(payload, pkt_id, vlan_prio, eth_dst, eth_src):\n",
    "    return Ether(dst=eth_dst,\n",
    "                 src=eth_src\n",
    "                 )/Dot1Q(prio=vlan_prio,\n",
    "                         vlan=VLAN_ID,\n",
    "                         type=VLAN_TYPE\n",
    "                         )/IP(id=pkt_id,\n",
    "                              version=4,\n",
    "                              dst='10.0.0.2',\n",
    "                              src='10.0.0.1')/UDP(sport=10001,\n",
    "                                                  dport=10002)/payload\n",
    "\n",
    "\n",
    "def inc_pkt_id(pkt_id):\n",
    "    if pkt_id >= 65535:\n",
    "        return 0\n",
    "    else:\n",
    "        return pkt_id + 1"
   ]
  },
  {
   "cell_type": "code",
   "execution_count": 7,
   "id": "dde6a358-d335-4b13-9252-0f96c60887b3",
   "metadata": {
    "execution": {
     "iopub.execute_input": "2022-02-22T23:05:59.519328Z",
     "iopub.status.busy": "2022-02-22T23:05:59.519117Z",
     "iopub.status.idle": "2022-02-22T23:45:08.997239Z",
     "shell.execute_reply": "2022-02-22T23:45:08.996789Z",
     "shell.execute_reply.started": "2022-02-22T23:05:59.519305Z"
    },
    "tags": []
   },
   "outputs": [],
   "source": [
    "PATH = \"./\"\n",
    "ETH_DST = '1c:1b:0d:9a:70:8c'\n",
    "ETH_SRC = \"00:00:00:00:00:03\"\n",
    "VLAN_TYPE = 0x0800\n",
    "VLAN_ID = 3\n",
    "VLAN_PRIO = 4\n",
    "#WASD=6\n",
    "#other=4\n",
    "\n",
    "LEN_ETHERNET_HEADER = 14\n",
    "LEN_VLAN_HEADER = 4\n",
    "LEN_IP_HEADER = 20\n",
    "LEN_UDP_HEADER = 8\n",
    "LEN_HEADER = LEN_ETHERNET_HEADER + LEN_VLAN_HEADER + LEN_IP_HEADER + LEN_UDP_HEADER\n",
    "LEN_FRAME_MIN = 64\n",
    "FULL_PAYLOAD = 1518 - LEN_HEADER\n",
    "FULL_PAYLOAD_ZEROS = FULL_PAYLOAD * '0'\n",
    "\n",
    "STREAM = \"RAW\"\n",
    "#wasd\n",
    "#RAW\n",
    "#JPEG\n",
    "\n",
    "PCAP_PATH_HOST = \"{}spot_{}{}.pcap\".format(PATH, STREAM, \"_host\")\n",
    "PCAP_PATH_SPOT = \"{}spot_{}{}.pcap\".format(PATH, STREAM, \"_spot\")\n",
    "\n",
    "pcap_host = Reader(open(\"/home/arch/testbed_src/src/pcap_writer/spot_pcap/spot_{}_host-to-spot.pcap\".format(STREAM), \"rb\"))\n",
    "pcap_spot = Reader(open(\"/home/arch/testbed_src/src/pcap_writer/spot_pcap/spot_{}_spot-to-host.pcap\".format(STREAM), \"rb\"))\n",
    "pcaps = [pcap_host, pcap_spot]\n",
    "rpw_host = RawPcapWriter(open(PCAP_PATH_HOST, 'wb'),\n",
    "                         nano=False,\n",
    "                         linktype=1,\n",
    "                         sync=True,\n",
    "                         append=True)\n",
    "rpw_spot = RawPcapWriter(open(PCAP_PATH_SPOT, 'wb'),\n",
    "                         nano=False,\n",
    "                         linktype=1,\n",
    "                         sync=True,\n",
    "                         append=True)\n",
    "pkt_id_host = 0\n",
    "pkt_id_spot = 0\n",
    "TIME_REF_HOST = None\n",
    "TIME_REF_SPOT = None\n",
    "\n",
    "for pcap in pcaps:\n",
    "\n",
    "    ts_last_spot = 0\n",
    "    ts_last_host = 0\n",
    "\n",
    "    for ts, buf in pcap:\n",
    "\n",
    "        hx = buf.hex()\n",
    "        size = len(bytes.fromhex(hx[132:]))\n",
    "\n",
    "        if pcap == pcap_spot:\n",
    "            # set time reference:\n",
    "            if not TIME_REF_SPOT:\n",
    "                TIME_REF_SPOT = ts\n",
    "\n",
    "            # set correct time:\n",
    "            ts_new = ts - TIME_REF_SPOT\n",
    "\n",
    "            # workaround for negative delta T: use last _ts_ + 1ns\n",
    "            if Decimal(ts_new) - ts_last_spot <= 0:\n",
    "                ts_new = round(ts_last_spot + Decimal(1e-6), 6)\n",
    "            ts_last_spot = Decimal(ts_new)\n",
    "            usec, sec = modf(ts_new)\n",
    "            sec = int(sec)\n",
    "            usec = round(usec * 1e6)\n",
    "\n",
    "            full, part = divmod(size, FULL_PAYLOAD)\n",
    "            for _ in range(0, full):\n",
    "                spot_header = get_header(payload=FULL_PAYLOAD_ZEROS,\n",
    "                                         pkt_id=pkt_id_spot,\n",
    "                                         vlan_prio=VLAN_PRIO,\n",
    "                                         eth_dst=ETH_DST,\n",
    "                                         eth_src=ETH_SRC)\n",
    "                rpw_spot.write_header(spot_header)\n",
    "                rpw_spot.write_packet(spot_header,\n",
    "                                      sec=sec,\n",
    "                                      usec=usec)\n",
    "                usec += 1\n",
    "                ts_last_spot += Decimal(1e-6)\n",
    "                pkt_id_spot = inc_pkt_id(pkt_id_spot)\n",
    "\n",
    "            if part < (LEN_FRAME_MIN - LEN_HEADER):\n",
    "                part = (LEN_FRAME_MIN - LEN_HEADER) * '0'\n",
    "            else:\n",
    "                part = part * '0'\n",
    "            spot_header = get_header(payload=part,\n",
    "                                     pkt_id=pkt_id_spot,\n",
    "                                     vlan_prio=VLAN_PRIO,\n",
    "                                     eth_dst=ETH_DST,\n",
    "                                     eth_src=ETH_SRC)\n",
    "            rpw_spot.write_header(spot_header)\n",
    "            rpw_spot.write_packet(spot_header,\n",
    "                                  sec=sec,\n",
    "                                  usec=usec)\n",
    "            pkt_id_spot = inc_pkt_id(pkt_id_spot)\n",
    "\n",
    "        elif pcap == pcap_host:\n",
    "            # set time reference:\n",
    "            if not TIME_REF_HOST:\n",
    "                TIME_REF_HOST = ts\n",
    "\n",
    "            if size < (LEN_FRAME_MIN - LEN_HEADER):\n",
    "                payload = (LEN_FRAME_MIN - LEN_HEADER) * '0'\n",
    "            else:\n",
    "                payload = size * '0'\n",
    "\n",
    "            # create and write header for Ethernet frame:\n",
    "            spot_header = get_header(payload=payload,\n",
    "                                     pkt_id=pkt_id_host,\n",
    "                                     vlan_prio=VLAN_PRIO,\n",
    "                                     eth_dst=ETH_SRC,\n",
    "                                     eth_src=ETH_DST)\n",
    "            rpw_host.write_header(spot_header)\n",
    "\n",
    "            # set correct time:\n",
    "            ts_new = ts - TIME_REF_HOST\n",
    "\n",
    "            # workaround for negative delta T: use last _ts_ + 1ns\n",
    "            if ts_new - ts_last_host < 0:\n",
    "                ts_new = round(ts_last_host + Decimal(1e-6), 6)\n",
    "            ts_last_host = ts_new\n",
    "\n",
    "            usec, sec = modf(ts_new)\n",
    "            sec = int(sec)\n",
    "            usec = round(usec * 1e6)\n",
    "\n",
    "            # write payload to Ethernet frame:\n",
    "            rpw_host.write_packet(spot_header,\n",
    "                                  sec=sec,\n",
    "                                  usec=usec)\n",
    "            pkt_id_host = inc_pkt_id(pkt_id_host)"
   ]
  },
  {
   "cell_type": "code",
   "execution_count": null,
   "id": "235a46db-6b40-48f3-bfa7-7a666562673d",
   "metadata": {},
   "outputs": [],
   "source": []
  }
 ],
 "metadata": {
  "kernelspec": {
   "display_name": "Python 3 (ipykernel)",
   "language": "python",
   "name": "python3"
  },
  "language_info": {
   "codemirror_mode": {
    "name": "ipython",
    "version": 3
   },
   "file_extension": ".py",
   "mimetype": "text/x-python",
   "name": "python",
   "nbconvert_exporter": "python",
   "pygments_lexer": "ipython3",
   "version": "3.10.4"
  }
 },
 "nbformat": 4,
 "nbformat_minor": 5
}
